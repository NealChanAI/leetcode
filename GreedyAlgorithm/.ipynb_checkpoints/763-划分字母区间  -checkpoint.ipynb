{
 "cells": [
  {
   "cell_type": "markdown",
   "metadata": {},
   "source": [
    "字符串 S 由小写字母组成。我们要把这个字符串划分为尽可能多的片段，同一字母最多出现在一个片段中。返回一个表示每个字符串片段的长度的列表。"
   ]
  },
  {
   "cell_type": "markdown",
   "metadata": {},
   "source": [
    "输入：S = \"ababcbacadefegdehijhklij\"\n",
    "输出：[9,7,8]\n",
    "解释：\n",
    "划分结果为 \"ababcbaca\", \"defegde\", \"hijhklij\"。\n",
    "每个字母最多出现在一个片段中。\n",
    "像 \"ababcbacadefegde\", \"hijhklij\" 的划分是错误的，因为划分的片段数较少。"
   ]
  },
  {
   "cell_type": "code",
   "execution_count": null,
   "metadata": {},
   "outputs": [],
   "source": [
    "def partitionLabels(self, s: str) -> List[int]:"
   ]
  }
 ],
 "metadata": {
  "kernelspec": {
   "display_name": "Python 3",
   "language": "python",
   "name": "python3"
  },
  "language_info": {
   "codemirror_mode": {
    "name": "ipython",
    "version": 3
   },
   "file_extension": ".py",
   "mimetype": "text/x-python",
   "name": "python",
   "nbconvert_exporter": "python",
   "pygments_lexer": "ipython3",
   "version": "3.8.5"
  }
 },
 "nbformat": 4,
 "nbformat_minor": 4
}
