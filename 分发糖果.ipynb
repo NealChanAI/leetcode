{
 "cells": [
  {
   "cell_type": "markdown",
   "metadata": {},
   "source": [
    "### 分发糖果"
   ]
  },
  {
   "cell_type": "markdown",
   "metadata": {},
   "source": [
    "老师想给孩子们分发糖果，有 N 个孩子站成了一条直线，老师会根据每个孩子的表现，预先给他们评分。\n",
    "\n",
    "你需要按照以下要求，帮助老师给这些孩子分发糖果：\n",
    "\n",
    "每个孩子至少分配到 1 个糖果。\n",
    "评分更高的孩子必须比他两侧的邻位孩子获得更多的糖果。\n",
    "那么这样下来，老师至少需要准备多少颗糖果呢？\n"
   ]
  },
  {
   "cell_type": "markdown",
   "metadata": {},
   "source": [
    "输入：[1,0,2]\n",
    "输出：5\n",
    "解释：你可以分别给这三个孩子分发 2、1、2 颗糖果。"
   ]
  },
  {
   "cell_type": "markdown",
   "metadata": {},
   "source": [
    "输入：[1,2,2]\n",
    "输出：4\n",
    "解释：你可以分别给这三个孩子分发 1、2、1 颗糖果。\n",
    "     第三个孩子只得到 1 颗糖果，这已满足上述两个条件。"
   ]
  },
  {
   "cell_type": "code",
   "execution_count": 37,
   "metadata": {},
   "outputs": [],
   "source": [
    "ratings = [1,2,87,87,87,2,1]\n",
    "def candy(self, ratings) -> int:\n",
    "    return 0"
   ]
  },
  {
   "cell_type": "code",
   "execution_count": 38,
   "metadata": {},
   "outputs": [],
   "source": [
    "initCandy = [1 for i in range(len(ratings))]"
   ]
  },
  {
   "cell_type": "code",
   "execution_count": 39,
   "metadata": {},
   "outputs": [],
   "source": [
    "l = 0\n",
    "while(l < len(ratings)-1):\n",
    "    if ratings[l] < ratings[l+1]: initCandy[l+1] = initCandy[l] + 1\n",
    "    l += 1\n",
    "r = len(ratings)-1\n",
    "while(r > 0):\n",
    "    if ratings[r-1] > ratings[r]: initCandy[r-1] = initCandy[r] + 1\n",
    "    if ratings[r-1] < ratings[r] and initCandy[r-1] == initCandy[r]: \n",
    "        initCandy[r] += 1\n",
    "    r -= 1"
   ]
  },
  {
   "cell_type": "code",
   "execution_count": 40,
   "metadata": {},
   "outputs": [
    {
     "data": {
      "text/plain": [
       "13"
      ]
     },
     "execution_count": 40,
     "metadata": {},
     "output_type": "execute_result"
    }
   ],
   "source": [
    "sum(initCandy)"
   ]
  },
  {
   "cell_type": "code",
   "execution_count": 41,
   "metadata": {},
   "outputs": [
    {
     "data": {
      "text/plain": [
       "[1, 2, 3, 1, 3, 2, 1]"
      ]
     },
     "execution_count": 41,
     "metadata": {},
     "output_type": "execute_result"
    }
   ],
   "source": [
    "initCandy"
   ]
  },
  {
   "cell_type": "code",
   "execution_count": null,
   "metadata": {},
   "outputs": [],
   "source": []
  }
 ],
 "metadata": {
  "kernelspec": {
   "display_name": "Python 3",
   "language": "python",
   "name": "python3"
  },
  "language_info": {
   "codemirror_mode": {
    "name": "ipython",
    "version": 3
   },
   "file_extension": ".py",
   "mimetype": "text/x-python",
   "name": "python",
   "nbconvert_exporter": "python",
   "pygments_lexer": "ipython3",
   "version": "3.8.5"
  }
 },
 "nbformat": 4,
 "nbformat_minor": 4
}
