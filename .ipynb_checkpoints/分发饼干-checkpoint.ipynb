{
 "cells": [
  {
   "cell_type": "code",
   "execution_count": 1,
   "metadata": {},
   "outputs": [],
   "source": [
    "# 你有三个孩子和两块小饼干，3个孩子的胃口值分别是：1,2,3。\n",
    "# 虽然你有两块小饼干，由于他们的尺寸都是1，你只能让胃口值是1的孩子满足。\n",
    "# 所以你应该输出1。\n",
    "\n",
    "g = [3,2,1]; s = [1,1]"
   ]
  },
  {
   "cell_type": "code",
   "execution_count": 8,
   "metadata": {},
   "outputs": [],
   "source": [
    "sortedG=sorted(g)\n",
    "sortedS=sorted(s)\n",
    "child = 0; cookie = 0\n",
    "while(child < len(g) and cookie < len(s)):\n",
    "    if sortedS[cookie] >= sortedG[child]: child+=1\n",
    "    cookie+=1"
   ]
  },
  {
   "cell_type": "code",
   "execution_count": null,
   "metadata": {},
   "outputs": [],
   "source": []
  }
 ],
 "metadata": {
  "kernelspec": {
   "display_name": "Python 3",
   "language": "python",
   "name": "python3"
  },
  "language_info": {
   "codemirror_mode": {
    "name": "ipython",
    "version": 3
   },
   "file_extension": ".py",
   "mimetype": "text/x-python",
   "name": "python",
   "nbconvert_exporter": "python",
   "pygments_lexer": "ipython3",
   "version": "3.8.5"
  }
 },
 "nbformat": 4,
 "nbformat_minor": 4
}
