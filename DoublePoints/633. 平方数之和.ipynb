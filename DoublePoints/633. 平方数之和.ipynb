{
 "cells": [
  {
   "cell_type": "markdown",
   "metadata": {},
   "source": [
    "给定一个非负整数 c ，你要判断是否存在两个整数 a 和 b，使得 a2 + b2 = c 。\n",
    "\n",
    "示例 1：\n",
    "输入：c = 5\n",
    "输出：true\n",
    "解释：1 * 1 + 2 * 2 = 5\n",
    "\n",
    "示例 2：\n",
    "输入：c = 3\n",
    "输出：false\n",
    "\n",
    "示例 3：\n",
    "输入：c = 4\n",
    "输出：true\n",
    "\n",
    "示例 4：\n",
    "输入：c = 2\n",
    "输出：true\n",
    "\n",
    "示例 5：\n",
    "输入：c = 1\n",
    "输出：true"
   ]
  },
  {
   "cell_type": "code",
   "execution_count": null,
   "metadata": {},
   "outputs": [],
   "source": []
  }
 ],
 "metadata": {
  "kernelspec": {
   "display_name": "Python 3",
   "language": "python",
   "name": "python3"
  },
  "language_info": {
   "codemirror_mode": {
    "name": "ipython",
    "version": 3
   },
   "file_extension": ".py",
   "mimetype": "text/x-python",
   "name": "python",
   "nbconvert_exporter": "python",
   "pygments_lexer": "ipython3",
   "version": "3.8.5"
  }
 },
 "nbformat": 4,
 "nbformat_minor": 4
}
