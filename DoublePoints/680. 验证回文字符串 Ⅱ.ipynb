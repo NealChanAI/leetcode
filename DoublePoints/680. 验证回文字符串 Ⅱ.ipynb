{
 "cells": [
  {
   "cell_type": "markdown",
   "metadata": {},
   "source": [
    "给定一个非空字符串 s，最多删除一个字符。判断是否能成为回文字符串。\n",
    "\n",
    "示例 1:\n",
    "输入: \"aba\"\n",
    "输出: True\n",
    "\n",
    "示例 2:\n",
    "输入: \"abca\"\n",
    "输出: True\n",
    "解释: 你可以删除c字符。"
   ]
  },
  {
   "cell_type": "code",
   "execution_count": null,
   "metadata": {},
   "outputs": [],
   "source": []
  }
 ],
 "metadata": {
  "kernelspec": {
   "display_name": "Python 3",
   "language": "python",
   "name": "python3"
  },
  "language_info": {
   "codemirror_mode": {
    "name": "ipython",
    "version": 3
   },
   "file_extension": ".py",
   "mimetype": "text/x-python",
   "name": "python",
   "nbconvert_exporter": "python",
   "pygments_lexer": "ipython3",
   "version": "3.8.5"
  }
 },
 "nbformat": 4,
 "nbformat_minor": 4
}
